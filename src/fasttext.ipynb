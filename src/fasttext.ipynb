{
 "cells": [
  {
   "cell_type": "code",
   "execution_count": 2,
   "metadata": {},
   "outputs": [],
   "source": [
    "import pandas as pd\n",
    "import csv\n",
    "import fasttext"
   ]
  },
  {
   "cell_type": "code",
   "execution_count": 4,
   "metadata": {},
   "outputs": [],
   "source": [
    "def print_results(N, p, r):\n",
    "    print(\"N\\t\" + str(N))\n",
    "    print(\"P@{}\\t{:.3f}\".format(1, p))\n",
    "    print(\"R@{}\\t{:.3f}\".format(1, r))"
   ]
  },
  {
   "cell_type": "markdown",
   "metadata": {},
   "source": [
    "## FastText application on tremo dataset"
   ]
  },
  {
   "cell_type": "code",
   "execution_count": 6,
   "metadata": {},
   "outputs": [],
   "source": [
    "#read fasttext compatible tremo dataset\n",
    "tremotrain = '/Users/pinarayaz/Jupyter/NLP/data/tremo.train.txt'\n",
    "tremotest = '/Users/pinarayaz/Jupyter/NLP/data/tremo.test.txt'"
   ]
  },
  {
   "cell_type": "code",
   "execution_count": 7,
   "metadata": {},
   "outputs": [],
   "source": [
    "model = fasttext.train_supervised(tremotrain)"
   ]
  },
  {
   "cell_type": "code",
   "execution_count": 8,
   "metadata": {},
   "outputs": [
    {
     "name": "stdout",
     "output_type": "stream",
     "text": [
      "N\t5198\n",
      "P@1\t0.868\n",
      "R@1\t0.868\n"
     ]
    }
   ],
   "source": [
    "print_results(*model.test(tremotest))"
   ]
  },
  {
   "cell_type": "markdown",
   "metadata": {},
   "source": [
    "## FastText application on twt dataset"
   ]
  },
  {
   "cell_type": "code",
   "execution_count": 1,
   "metadata": {},
   "outputs": [],
   "source": [
    "#read fasttext compatible twt dataset\n",
    "twttrain = '/Users/pinarayaz/Jupyter/NLP/data/twt.train.txt'\n",
    "twttest = '/Users/pinarayaz/Jupyter/NLP/data/twt.test.txt'"
   ]
  },
  {
   "cell_type": "code",
   "execution_count": 3,
   "metadata": {},
   "outputs": [],
   "source": [
    "model = fasttext.train_supervised(twttrain)"
   ]
  },
  {
   "cell_type": "code",
   "execution_count": 5,
   "metadata": {},
   "outputs": [
    {
     "name": "stdout",
     "output_type": "stream",
     "text": [
      "N\t6400\n",
      "P@1\t0.970\n",
      "R@1\t0.970\n"
     ]
    }
   ],
   "source": [
    "print_results(*model.test(twttest))"
   ]
  },
  {
   "cell_type": "markdown",
   "metadata": {},
   "source": [
    "## FastText application on reviews dataset"
   ]
  },
  {
   "cell_type": "code",
   "execution_count": 9,
   "metadata": {},
   "outputs": [],
   "source": [
    "#read fasttext compatible reviews dataset\n",
    "reviewstrain = '/Users/pinarayaz/Jupyter/NLP/data/reviews.train.txt'\n",
    "reviewstest = '/Users/pinarayaz/Jupyter/NLP/data/reviews.test.txt'"
   ]
  },
  {
   "cell_type": "code",
   "execution_count": 10,
   "metadata": {},
   "outputs": [],
   "source": [
    "model = fasttext.train_supervised(reviewstrain)"
   ]
  },
  {
   "cell_type": "code",
   "execution_count": 11,
   "metadata": {},
   "outputs": [
    {
     "name": "stdout",
     "output_type": "stream",
     "text": [
      "N\t6998\n",
      "P@1\t0.788\n",
      "R@1\t0.788\n"
     ]
    }
   ],
   "source": [
    "print_results(*model.test(reviewstest))"
   ]
  },
  {
   "cell_type": "markdown",
   "metadata": {},
   "source": [
    "## FastText application on tweets dataset"
   ]
  },
  {
   "cell_type": "code",
   "execution_count": 13,
   "metadata": {},
   "outputs": [],
   "source": [
    "#read fasttext compatible tweets dataset\n",
    "tweetstrain = '/Users/pinarayaz/Jupyter/NLP/data/tweets.train.txt'\n",
    "tweetstest = '/Users/pinarayaz/Jupyter/NLP/data/tweets.test.txt'"
   ]
  },
  {
   "cell_type": "code",
   "execution_count": 14,
   "metadata": {},
   "outputs": [],
   "source": [
    "model = fasttext.train_supervised(tweetstrain)"
   ]
  },
  {
   "cell_type": "code",
   "execution_count": 15,
   "metadata": {},
   "outputs": [
    {
     "name": "stdout",
     "output_type": "stream",
     "text": [
      "N\t3458\n",
      "P@1\t0.667\n",
      "R@1\t0.667\n"
     ]
    }
   ],
   "source": [
    "print_results(*model.test(tweetstest))"
   ]
  }
 ],
 "metadata": {
  "kernelspec": {
   "display_name": "Python 3",
   "language": "python",
   "name": "python3"
  },
  "language_info": {
   "codemirror_mode": {
    "name": "ipython",
    "version": 3
   },
   "file_extension": ".py",
   "mimetype": "text/x-python",
   "name": "python",
   "nbconvert_exporter": "python",
   "pygments_lexer": "ipython3",
   "version": "3.7.1"
  }
 },
 "nbformat": 4,
 "nbformat_minor": 2
}
