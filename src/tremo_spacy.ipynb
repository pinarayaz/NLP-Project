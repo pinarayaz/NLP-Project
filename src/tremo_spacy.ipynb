{
 "cells": [
  {
   "cell_type": "code",
   "execution_count": 1,
   "metadata": {},
   "outputs": [],
   "source": [
    "import spacy\n",
    "from spacy.lang.tr import Turkish\n",
    "from spacy.util import minibatch, compounding\n",
    "import pandas as pd\n",
    "import numpy as np\n",
    "import string"
   ]
  },
  {
   "cell_type": "code",
   "execution_count": 2,
   "metadata": {},
   "outputs": [
    {
     "data": {
      "text/html": [
       "<div>\n",
       "<style scoped>\n",
       "    .dataframe tbody tr th:only-of-type {\n",
       "        vertical-align: middle;\n",
       "    }\n",
       "\n",
       "    .dataframe tbody tr th {\n",
       "        vertical-align: top;\n",
       "    }\n",
       "\n",
       "    .dataframe thead th {\n",
       "        text-align: right;\n",
       "    }\n",
       "</style>\n",
       "<table border=\"1\" class=\"dataframe\">\n",
       "  <thead>\n",
       "    <tr style=\"text-align: right;\">\n",
       "      <th></th>\n",
       "      <th>Entry</th>\n",
       "      <th>ValidatedEmotion</th>\n",
       "    </tr>\n",
       "  </thead>\n",
       "  <tbody>\n",
       "    <tr>\n",
       "      <th>0</th>\n",
       "      <td>her yeni gün bir mutluluk</td>\n",
       "      <td>Happy</td>\n",
       "    </tr>\n",
       "    <tr>\n",
       "      <th>1</th>\n",
       "      <td>gece kimsenin olmadığı sokaklardan geçerken ço...</td>\n",
       "      <td>Fear</td>\n",
       "    </tr>\n",
       "    <tr>\n",
       "      <th>2</th>\n",
       "      <td>gerçekleşemeyen hayaller</td>\n",
       "      <td>Sadness</td>\n",
       "    </tr>\n",
       "    <tr>\n",
       "      <th>3</th>\n",
       "      <td>arkadaş kaybetmek beni üzüyor</td>\n",
       "      <td>Sadness</td>\n",
       "    </tr>\n",
       "    <tr>\n",
       "      <th>4</th>\n",
       "      <td>insanların çıkarcı olmalarından tiksiniyorum</td>\n",
       "      <td>Disgust</td>\n",
       "    </tr>\n",
       "  </tbody>\n",
       "</table>\n",
       "</div>"
      ],
      "text/plain": [
       "                                               Entry ValidatedEmotion\n",
       "0                          her yeni gün bir mutluluk            Happy\n",
       "1  gece kimsenin olmadığı sokaklardan geçerken ço...             Fear\n",
       "2                           gerçekleşemeyen hayaller          Sadness\n",
       "3                      arkadaş kaybetmek beni üzüyor          Sadness\n",
       "4       insanların çıkarcı olmalarından tiksiniyorum          Disgust"
      ]
     },
     "execution_count": 2,
     "metadata": {},
     "output_type": "execute_result"
    }
   ],
   "source": [
    "#read tremo dataset\n",
    "tremopath = '/Users/pinarayaz/Jupyter/NLP/data/tremo.csv'\n",
    "tremo_df = pd.read_csv(tremopath)\n",
    "tremo_df.head()"
   ]
  },
  {
   "cell_type": "code",
   "execution_count": 3,
   "metadata": {},
   "outputs": [
    {
     "data": {
      "text/plain": [
       "'Geçerim dediğim dersten kalma durumuna gelmem beni çok şaşırtıyor.'"
      ]
     },
     "execution_count": 3,
     "metadata": {},
     "output_type": "execute_result"
    }
   ],
   "source": [
    "nlp = Turkish()\n",
    "sample_review = tremo_df.Entry[17]\n",
    "sample_review"
   ]
  },
  {
   "cell_type": "code",
   "execution_count": 4,
   "metadata": {},
   "outputs": [
    {
     "data": {
      "text/plain": [
       "Geçerim dediğim dersten kalma durumuna gelmem beni çok şaşırtıyor."
      ]
     },
     "execution_count": 4,
     "metadata": {},
     "output_type": "execute_result"
    }
   ],
   "source": [
    "parsed_review = nlp(sample_review)\n",
    "parsed_review"
   ]
  },
  {
   "cell_type": "code",
   "execution_count": 5,
   "metadata": {},
   "outputs": [
    {
     "data": {
      "text/html": [
       "<div>\n",
       "<style scoped>\n",
       "    .dataframe tbody tr th:only-of-type {\n",
       "        vertical-align: middle;\n",
       "    }\n",
       "\n",
       "    .dataframe tbody tr th {\n",
       "        vertical-align: top;\n",
       "    }\n",
       "\n",
       "    .dataframe thead th {\n",
       "        text-align: right;\n",
       "    }\n",
       "</style>\n",
       "<table border=\"1\" class=\"dataframe\">\n",
       "  <thead>\n",
       "    <tr style=\"text-align: right;\">\n",
       "      <th></th>\n",
       "      <th>text</th>\n",
       "      <th>lemma</th>\n",
       "      <th>pos</th>\n",
       "      <th>tag</th>\n",
       "      <th>dep</th>\n",
       "      <th>shape</th>\n",
       "      <th>is_alpha</th>\n",
       "      <th>is_stop</th>\n",
       "      <th>is_punctuation</th>\n",
       "    </tr>\n",
       "  </thead>\n",
       "  <tbody>\n",
       "    <tr>\n",
       "      <th>0</th>\n",
       "      <td>Geçerim</td>\n",
       "      <td>Geçerim</td>\n",
       "      <td></td>\n",
       "      <td></td>\n",
       "      <td></td>\n",
       "      <td>Xxxxx</td>\n",
       "      <td>True</td>\n",
       "      <td>False</td>\n",
       "      <td>False</td>\n",
       "    </tr>\n",
       "    <tr>\n",
       "      <th>1</th>\n",
       "      <td>dediğim</td>\n",
       "      <td>(de,)</td>\n",
       "      <td></td>\n",
       "      <td></td>\n",
       "      <td></td>\n",
       "      <td>xxxx</td>\n",
       "      <td>True</td>\n",
       "      <td>False</td>\n",
       "      <td>False</td>\n",
       "    </tr>\n",
       "    <tr>\n",
       "      <th>2</th>\n",
       "      <td>dersten</td>\n",
       "      <td>(ders,)</td>\n",
       "      <td></td>\n",
       "      <td></td>\n",
       "      <td></td>\n",
       "      <td>xxxx</td>\n",
       "      <td>True</td>\n",
       "      <td>False</td>\n",
       "      <td>False</td>\n",
       "    </tr>\n",
       "    <tr>\n",
       "      <th>3</th>\n",
       "      <td>kalma</td>\n",
       "      <td>(kal,)</td>\n",
       "      <td></td>\n",
       "      <td></td>\n",
       "      <td></td>\n",
       "      <td>xxxx</td>\n",
       "      <td>True</td>\n",
       "      <td>False</td>\n",
       "      <td>False</td>\n",
       "    </tr>\n",
       "    <tr>\n",
       "      <th>4</th>\n",
       "      <td>durumuna</td>\n",
       "      <td>(durum,)</td>\n",
       "      <td></td>\n",
       "      <td></td>\n",
       "      <td></td>\n",
       "      <td>xxxx</td>\n",
       "      <td>True</td>\n",
       "      <td>False</td>\n",
       "      <td>False</td>\n",
       "    </tr>\n",
       "    <tr>\n",
       "      <th>5</th>\n",
       "      <td>gelmem</td>\n",
       "      <td>(gel,)</td>\n",
       "      <td></td>\n",
       "      <td></td>\n",
       "      <td></td>\n",
       "      <td>xxxx</td>\n",
       "      <td>True</td>\n",
       "      <td>False</td>\n",
       "      <td>False</td>\n",
       "    </tr>\n",
       "    <tr>\n",
       "      <th>6</th>\n",
       "      <td>beni</td>\n",
       "      <td>(ben,)</td>\n",
       "      <td></td>\n",
       "      <td></td>\n",
       "      <td></td>\n",
       "      <td>xxxx</td>\n",
       "      <td>True</td>\n",
       "      <td>True</td>\n",
       "      <td>False</td>\n",
       "    </tr>\n",
       "    <tr>\n",
       "      <th>7</th>\n",
       "      <td>çok</td>\n",
       "      <td>(çok,)</td>\n",
       "      <td></td>\n",
       "      <td></td>\n",
       "      <td></td>\n",
       "      <td>xxx</td>\n",
       "      <td>True</td>\n",
       "      <td>True</td>\n",
       "      <td>False</td>\n",
       "    </tr>\n",
       "    <tr>\n",
       "      <th>8</th>\n",
       "      <td>şaşırtıyor</td>\n",
       "      <td>(şaşır,)</td>\n",
       "      <td></td>\n",
       "      <td></td>\n",
       "      <td></td>\n",
       "      <td>xxxx</td>\n",
       "      <td>True</td>\n",
       "      <td>False</td>\n",
       "      <td>False</td>\n",
       "    </tr>\n",
       "    <tr>\n",
       "      <th>9</th>\n",
       "      <td>.</td>\n",
       "      <td>(.,)</td>\n",
       "      <td></td>\n",
       "      <td></td>\n",
       "      <td></td>\n",
       "      <td>.</td>\n",
       "      <td>False</td>\n",
       "      <td>False</td>\n",
       "      <td>True</td>\n",
       "    </tr>\n",
       "  </tbody>\n",
       "</table>\n",
       "</div>"
      ],
      "text/plain": [
       "         text     lemma pos tag dep  shape is_alpha is_stop is_punctuation\n",
       "0     Geçerim   Geçerim              Xxxxx     True   False          False\n",
       "1     dediğim     (de,)               xxxx     True   False          False\n",
       "2     dersten   (ders,)               xxxx     True   False          False\n",
       "3       kalma    (kal,)               xxxx     True   False          False\n",
       "4    durumuna  (durum,)               xxxx     True   False          False\n",
       "5      gelmem    (gel,)               xxxx     True   False          False\n",
       "6        beni    (ben,)               xxxx     True    True          False\n",
       "7         çok    (çok,)                xxx     True    True          False\n",
       "8  şaşırtıyor  (şaşır,)               xxxx     True   False          False\n",
       "9           .      (.,)                  .    False   False           True"
      ]
     },
     "execution_count": 5,
     "metadata": {},
     "output_type": "execute_result"
    }
   ],
   "source": [
    "tokenized_text = pd.DataFrame()\n",
    "\n",
    "for i, token in enumerate(parsed_review):\n",
    "    tokenized_text.loc[i, 'text'] = token.text\n",
    "    tokenized_text.loc[i, 'lemma'] = token.lemma_,\n",
    "    tokenized_text.loc[i, 'pos'] = token.pos_\n",
    "    tokenized_text.loc[i, 'tag'] = token.tag_\n",
    "    tokenized_text.loc[i, 'dep'] = token.dep_\n",
    "    tokenized_text.loc[i, 'shape'] = token.shape_\n",
    "    tokenized_text.loc[i, 'is_alpha'] = token.is_alpha\n",
    "    tokenized_text.loc[i, 'is_stop'] = token.is_stop\n",
    "    tokenized_text.loc[i, 'is_punctuation'] = token.is_punct\n",
    "\n",
    "tokenized_text[:10]"
   ]
  },
  {
   "cell_type": "code",
   "execution_count": 6,
   "metadata": {},
   "outputs": [
    {
     "data": {
      "text/plain": [
       "[('her yeni gün bir mutluluk', 'Happy'),\n",
       " ('gece kimsenin olmadığı sokaklardan geçerken çok korkarım', 'Fear'),\n",
       " ('gerçekleşemeyen hayaller', 'Sadness'),\n",
       " ('arkadaş kaybetmek beni üzüyor', 'Sadness'),\n",
       " ('insanların çıkarcı olmalarından tiksiniyorum', 'Disgust'),\n",
       " ('hiç beklemediğim anda sürprizle karşılaşmak beni şaşırtır', 'Surprise'),\n",
       " ('Ailemle tatile çıktığımda çok sevindim.', 'Happy'),\n",
       " ('Rüyamda babamın öldüğünü gördüğümde çok korkmuştum.', 'Fear'),\n",
       " ('Daha taksiti bitmemiş bilgisayarımı ben uyurken otobüsten çalınmasına çok öfkelendim.',\n",
       "  'Anger'),\n",
       " ('Annemin üzüldüğünü gördüğümde üzülüyorum.', 'Sadness')]"
      ]
     },
     "execution_count": 6,
     "metadata": {},
     "output_type": "execute_result"
    }
   ],
   "source": [
    "tremo_df['tuples'] = tremo_df.apply(lambda row: (row['Entry'],row['ValidatedEmotion']), axis=1)\n",
    "train = tremo_df['tuples'].tolist()\n",
    "train[:10]"
   ]
  },
  {
   "cell_type": "code",
   "execution_count": 7,
   "metadata": {},
   "outputs": [],
   "source": [
    "nlp = spacy.blank(\"tr\")  # create blank Language class\n",
    "\n",
    "if \"textcat\" not in nlp.pipe_names:\n",
    "    textcat = nlp.create_pipe(\"textcat\", config={\"exclusive_classes\": True, \"architecture\": \"simple_cnn\"})\n",
    "    nlp.add_pipe(textcat, last=True)\n",
    "else:\n",
    "    textcat = nlp.get_pipe(\"textcat\")"
   ]
  },
  {
   "cell_type": "code",
   "execution_count": 8,
   "metadata": {},
   "outputs": [
    {
     "data": {
      "text/plain": [
       "1"
      ]
     },
     "execution_count": 8,
     "metadata": {},
     "output_type": "execute_result"
    }
   ],
   "source": [
    "textcat.add_label(\"Happy\")\n",
    "textcat.add_label(\"Fear\")\n",
    "textcat.add_label(\"Sadness\")\n",
    "textcat.add_label(\"Disgust\")\n",
    "textcat.add_label(\"Surprise\")\n",
    "textcat.add_label(\"Anger\")"
   ]
  },
  {
   "cell_type": "code",
   "execution_count": 9,
   "metadata": {},
   "outputs": [],
   "source": [
    "def load_data(limit=0, split=0.8):\n",
    "    train_data = train\n",
    "    np.random.shuffle(train_data)\n",
    "    train_data = train_data[-limit:]\n",
    "    texts, labels = zip(*train_data)\n",
    "    cats = [{\"Happy\": y == \"Happy\", \"Fear\": y == \"Fear\", \"Sadness\": y == \"Sadness\",\n",
    "             \"Disgust\": y == \"Disgust\", \"Suprise\": y == \"Suprise\", \"Anger\": y == \"Anger\"} for y in labels]\n",
    "    split = int(len(train_data) * split)\n",
    "    return (texts[:split], cats[:split]), (texts[split:], cats[split:])"
   ]
  },
  {
   "cell_type": "code",
   "execution_count": 10,
   "metadata": {},
   "outputs": [
    {
     "name": "stdout",
     "output_type": "stream",
     "text": [
      "Loading TREMO data...\n",
      "Using 27350 examples (21880 training, 5470 evaluation)\n"
     ]
    }
   ],
   "source": [
    "# load the dataset\n",
    "print(\"Loading TREMO data...\")\n",
    "(train_texts, train_cats), (dev_texts, dev_cats) = load_data(limit=27350)\n",
    "print(\"Using {} examples ({} training, {} evaluation)\".format(27350, len(train_texts), len(dev_texts)))\n",
    "train_data = list(zip(train_texts, [{'cats': cats} for cats in train_cats]))"
   ]
  },
  {
   "cell_type": "code",
   "execution_count": 11,
   "metadata": {},
   "outputs": [],
   "source": [
    "def evaluate(tokenizer, textcat, texts, cats):\n",
    "    docs = (tokenizer(text) for text in texts)\n",
    "    tp = 1e-8  # True positives\n",
    "    fp = 1e-8  # False positives\n",
    "    fn = 1e-8  # False negatives\n",
    "    tn = 1e-8  # True negatives\n",
    "    for i, doc in enumerate(textcat.pipe(docs)):\n",
    "        gold = cats[i]\n",
    "        for label, score in doc.cats.items():\n",
    "            if label not in gold:\n",
    "                continue\n",
    "            if score >= 0.5 and gold[label] >= 0.5:\n",
    "                tp += 1.\n",
    "            elif score >= 0.5 and gold[label] < 0.5:\n",
    "                fp += 1.\n",
    "            elif score < 0.5 and gold[label] < 0.5:\n",
    "                tn += 1\n",
    "            elif score < 0.5 and gold[label] >= 0.5:\n",
    "                fn += 1\n",
    "    precision = tp / (tp + fp)\n",
    "    recall = tp / (tp + fn)\n",
    "    f_score = 2 * (precision * recall) / (precision + recall)\n",
    "    accuracy = (tp + tn) / (tp + fp + fn + tn)\n",
    "    return {'textcat_p': precision, 'textcat_r': recall, 'textcat_f': f_score, 'textcat_a': accuracy}"
   ]
  },
  {
   "cell_type": "code",
   "execution_count": 12,
   "metadata": {},
   "outputs": [
    {
     "name": "stdout",
     "output_type": "stream",
     "text": [
      "Training the model...\n",
      "LOSS \t  P  \t  R  \t  F  \tAccuracy\n",
      "17.012\t0.900\t0.767\t0.829\t0.946\n",
      "8.321\t0.880\t0.797\t0.837\t0.947\n",
      "6.111\t0.875\t0.812\t0.842\t0.949\n",
      "4.554\t0.867\t0.822\t0.844\t0.949\n",
      "3.671\t0.860\t0.820\t0.840\t0.947\n",
      "3.040\t0.854\t0.826\t0.840\t0.947\n",
      "2.668\t0.854\t0.826\t0.840\t0.947\n",
      "2.419\t0.848\t0.825\t0.836\t0.945\n",
      "1.970\t0.847\t0.826\t0.836\t0.945\n",
      "1.790\t0.844\t0.828\t0.836\t0.945\n"
     ]
    }
   ],
   "source": [
    "# get names of other pipes to disable them during training\n",
    "other_pipes = [pipe for pipe in nlp.pipe_names if pipe != 'textcat']\n",
    "with nlp.disable_pipes(*other_pipes):  # only train textcat\n",
    "    optimizer = nlp.begin_training()\n",
    "    print(\"Training the model...\")\n",
    "    print('{:^5}\\t{:^5}\\t{:^5}\\t{:^5}\\t{:^5}'.format('LOSS', 'P', 'R', 'F', 'Accuracy'))\n",
    "    for i in range(10):\n",
    "        losses = {}\n",
    "        # batch up the examples using spaCy's minibatch\n",
    "        batches = minibatch(train_data, size=compounding(4., 32., 1.001))\n",
    "        for batch in batches:\n",
    "            texts, annotations = zip(*batch)\n",
    "            nlp.update(texts, annotations, sgd=optimizer, drop=0.2, losses=losses)\n",
    "        with textcat.model.use_params(optimizer.averages):\n",
    "            # evaluate on the dev data split off in load_data()\n",
    "            scores = evaluate(nlp.tokenizer, textcat, dev_texts, dev_cats)\n",
    "        print('{0:.3f}\\t{1:.3f}\\t{2:.3f}\\t{3:.3f}\\t{4:.3f}'\n",
    "              .format(losses['textcat'], scores['textcat_p'],\n",
    "                      scores['textcat_r'], scores['textcat_f'], scores['textcat_a']))"
   ]
  },
  {
   "cell_type": "code",
   "execution_count": 15,
   "metadata": {},
   "outputs": [
    {
     "name": "stdout",
     "output_type": "stream",
     "text": [
      "Tahlil sonuçlarının kötü çıkmasından korkuyorum. {'Happy': 6.583996015052662e-09, 'Fear': 0.9999990463256836, 'Sadness': 3.6789039370432874e-08, 'Disgust': 7.194476552285778e-07, 'Surprise': 1.0683135798217336e-07, 'Anger': 6.638094163236019e-08}\n"
     ]
    }
   ],
   "source": [
    "# test the trained model\n",
    "test_text = \"Tahlil sonuçlarının kötü çıkmasından korkuyorum.\"\n",
    "doc = nlp(test_text)\n",
    "print(test_text, doc.cats)"
   ]
  },
  {
   "cell_type": "code",
   "execution_count": 16,
   "metadata": {},
   "outputs": [
    {
     "name": "stdout",
     "output_type": "stream",
     "text": [
      "Saved model to /Users/pinarayaz/Jupyter/NLP/spacy_models/tremo_spacy\n"
     ]
    }
   ],
   "source": [
    "#save model\n",
    "output_dir = '/Users/pinarayaz/Jupyter/NLP/spacy_models/tremo_spacy'\n",
    "if output_dir is not None:\n",
    "    with nlp.use_params(optimizer.averages):\n",
    "        nlp.to_disk(output_dir)\n",
    "    print(\"Saved model to\", output_dir)"
   ]
  },
  {
   "cell_type": "code",
   "execution_count": 18,
   "metadata": {},
   "outputs": [
    {
     "name": "stdout",
     "output_type": "stream",
     "text": [
      "Hayallerim yıkıldı. {'Happy': 0.12280184030532837, 'Fear': 0.0021183679345995188, 'Sadness': 0.6602464318275452, 'Disgust': 0.006913020741194487, 'Surprise': 0.17555099725723267, 'Anger': 0.03236926719546318}\n",
      "Emotion: Sadness\n"
     ]
    }
   ],
   "source": [
    "# test the saved model\n",
    "test_text = \"Hayallerim yıkıldı.\"\n",
    "nlp_test = spacy.load(output_dir)\n",
    "doc2 = nlp_test(test_text)\n",
    "print(test_text, doc2.cats)\n",
    "\n",
    "score = 0\n",
    "for cat in doc2.cats:\n",
    "    if(doc2.cats[cat] > score):\n",
    "        emotion = cat\n",
    "        score = doc2.cats[cat]\n",
    "print(\"Emotion:\", emotion)"
   ]
  },
  {
   "cell_type": "code",
   "execution_count": null,
   "metadata": {},
   "outputs": [],
   "source": []
  }
 ],
 "metadata": {
  "kernelspec": {
   "display_name": "Python 3",
   "language": "python",
   "name": "python3"
  },
  "language_info": {
   "codemirror_mode": {
    "name": "ipython",
    "version": 3
   },
   "file_extension": ".py",
   "mimetype": "text/x-python",
   "name": "python",
   "nbconvert_exporter": "python",
   "pygments_lexer": "ipython3",
   "version": "3.7.1"
  }
 },
 "nbformat": 4,
 "nbformat_minor": 2
}
