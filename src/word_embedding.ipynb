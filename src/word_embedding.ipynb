{
 "cells": [
  {
   "cell_type": "code",
   "execution_count": 1,
   "metadata": {},
   "outputs": [],
   "source": [
    "import pandas as pd\n",
    "import numpy as np\n",
    "import gensim\n",
    "from nltk import word_tokenize"
   ]
  },
  {
   "cell_type": "code",
   "execution_count": 2,
   "metadata": {},
   "outputs": [
    {
     "data": {
      "text/html": [
       "<div>\n",
       "<style scoped>\n",
       "    .dataframe tbody tr th:only-of-type {\n",
       "        vertical-align: middle;\n",
       "    }\n",
       "\n",
       "    .dataframe tbody tr th {\n",
       "        vertical-align: top;\n",
       "    }\n",
       "\n",
       "    .dataframe thead th {\n",
       "        text-align: right;\n",
       "    }\n",
       "</style>\n",
       "<table border=\"1\" class=\"dataframe\">\n",
       "  <thead>\n",
       "    <tr style=\"text-align: right;\">\n",
       "      <th></th>\n",
       "      <th>Article</th>\n",
       "    </tr>\n",
       "  </thead>\n",
       "  <tbody>\n",
       "    <tr>\n",
       "      <th>0</th>\n",
       "      <td>cengiz han cenghis khan çinggis haan doğum ad ...</td>\n",
       "    </tr>\n",
       "    <tr>\n",
       "      <th>1</th>\n",
       "      <td>film anlam gel film fotoğrafçılık radyografi s...</td>\n",
       "    </tr>\n",
       "    <tr>\n",
       "      <th>2</th>\n",
       "      <td>mustafa suphidosya manifesto of the communist ...</td>\n",
       "    </tr>\n",
       "    <tr>\n",
       "      <th>3</th>\n",
       "      <td>dosya linus torvalds jpeg thumb px linus torva...</td>\n",
       "    </tr>\n",
       "    <tr>\n",
       "      <th>4</th>\n",
       "      <td>bolşevik çoğunluk yan anlam gel rusça kelime y...</td>\n",
       "    </tr>\n",
       "  </tbody>\n",
       "</table>\n",
       "</div>"
      ],
      "text/plain": [
       "                                             Article\n",
       "0  cengiz han cenghis khan çinggis haan doğum ad ...\n",
       "1  film anlam gel film fotoğrafçılık radyografi s...\n",
       "2  mustafa suphidosya manifesto of the communist ...\n",
       "3  dosya linus torvalds jpeg thumb px linus torva...\n",
       "4  bolşevik çoğunluk yan anlam gel rusça kelime y..."
      ]
     },
     "execution_count": 2,
     "metadata": {},
     "output_type": "execute_result"
    }
   ],
   "source": [
    "#read wiki_tr corpus (preprocessed)\n",
    "wikipath = '/Users/pinarayaz/Jupyter/NLP/data/wiki_preprocessed.csv'\n",
    "wiki_df = pd.read_csv(wikipath)\n",
    "wiki_df.head()"
   ]
  },
  {
   "cell_type": "code",
   "execution_count": 3,
   "metadata": {},
   "outputs": [
    {
     "data": {
      "text/plain": [
       "261415"
      ]
     },
     "execution_count": 3,
     "metadata": {},
     "output_type": "execute_result"
    }
   ],
   "source": [
    "lines = wiki_df['Article'].values.tolist()\n",
    "len(lines)"
   ]
  },
  {
   "cell_type": "code",
   "execution_count": 4,
   "metadata": {},
   "outputs": [],
   "source": [
    "#tokenize the text\n",
    "tokenized_text = list()\n",
    "for line in lines:\n",
    "    tokens = word_tokenize(line)\n",
    "    tokenized_text.append(tokens)"
   ]
  },
  {
   "cell_type": "code",
   "execution_count": 10,
   "metadata": {},
   "outputs": [],
   "source": [
    "#train word2vec model\n",
    "model = gensim.models.Word2Vec(sentences=tokenized_text, min_count=2) #default size=100"
   ]
  },
  {
   "cell_type": "code",
   "execution_count": 11,
   "metadata": {},
   "outputs": [
    {
     "name": "stdout",
     "output_type": "stream",
     "text": [
      "Vocabulary size: 617667\n"
     ]
    }
   ],
   "source": [
    "#vocab size\n",
    "words = list(model.wv.vocab)\n",
    "print(\"Vocabulary size: %d\" % len(words))"
   ]
  },
  {
   "cell_type": "code",
   "execution_count": 15,
   "metadata": {},
   "outputs": [
    {
     "data": {
      "text/plain": [
       "[('neşe', 0.7246238589286804),\n",
       " ('arzu', 0.7244904637336731),\n",
       " ('mutsuz', 0.7190927267074585),\n",
       " ('sevinç', 0.7176935076713562),\n",
       " ('sevgi', 0.7157647609710693),\n",
       " ('aşk', 0.7072259783744812),\n",
       " ('sevin', 0.6893306374549866),\n",
       " ('unut', 0.6856556534767151),\n",
       " ('üzgün', 0.6842188239097595),\n",
       " ('sev', 0.6758397817611694)]"
      ]
     },
     "execution_count": 15,
     "metadata": {},
     "output_type": "execute_result"
    }
   ],
   "source": [
    "#test the model\n",
    "model.wv.most_similar('mutlu')"
   ]
  },
  {
   "cell_type": "code",
   "execution_count": 16,
   "metadata": {},
   "outputs": [],
   "source": [
    "#save the model\n",
    "path = '/Users/pinarayaz/Jupyter/NLP/data/wiki_embeddings_word2vec.txt'\n",
    "model.wv.save_word2vec_format(path, binary=False)"
   ]
  },
  {
   "cell_type": "code",
   "execution_count": null,
   "metadata": {},
   "outputs": [],
   "source": []
  }
 ],
 "metadata": {
  "kernelspec": {
   "display_name": "Python 3",
   "language": "python",
   "name": "python3"
  },
  "language_info": {
   "codemirror_mode": {
    "name": "ipython",
    "version": 3
   },
   "file_extension": ".py",
   "mimetype": "text/x-python",
   "name": "python",
   "nbconvert_exporter": "python",
   "pygments_lexer": "ipython3",
   "version": "3.7.1"
  }
 },
 "nbformat": 4,
 "nbformat_minor": 2
}
